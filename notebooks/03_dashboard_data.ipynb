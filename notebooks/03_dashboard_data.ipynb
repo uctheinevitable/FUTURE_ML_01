{
 "cells": [
  {
   "cell_type": "code",
   "execution_count": 1,
   "id": "39fdcb68",
   "metadata": {},
   "outputs": [],
   "source": [
    "import pandas as pd\n",
    "\n",
    "national_forecast = pd.read_csv('../data/forecast/national_forecast.csv')\n",
    "\n",
    "# Add year and month columns for easier slicing in Power BI\n",
    "national_forecast['ds'] = pd.to_datetime(national_forecast['ds'])\n",
    "national_forecast['Year'] = national_forecast['ds'].dt.year\n",
    "national_forecast['Month'] = national_forecast['ds'].dt.month_name()\n",
    "\n",
    "\n",
    "national_final = national_forecast[['ds', 'yhat', 'yhat_lower', 'yhat_upper', 'Year', 'Month']]\n",
    "national_final.to_csv('../data/processed/pbi_forecast_national.csv', index=False)\n"
   ]
  },
  {
   "cell_type": "code",
   "execution_count": 2,
   "id": "13cd89d5",
   "metadata": {},
   "outputs": [
    {
     "name": "stdout",
     "output_type": "stream",
     "text": [
      "✅ Regional forecast combined and saved to Processed folder.\n"
     ]
    }
   ],
   "source": [
    "import os\n",
    "\n",
    "input_dir = \"../data/forecast/regions\"\n",
    "region_dfs = []\n",
    "\n",
    "# Loop over all CSVs in the folder\n",
    "for file in os.listdir(input_dir):\n",
    "    if file.endswith(\"_forecast.csv\"):\n",
    "        path = os.path.join(input_dir, file)\n",
    "        region_name = file.replace(\"_forecast.csv\", \"\")\n",
    "        \n",
    "        df = pd.read_csv(path)\n",
    "        df['Region'] = region_name\n",
    "        df['ds'] = pd.to_datetime(df['ds'])\n",
    "        df['Year'] = df['ds'].dt.year\n",
    "        df['Month'] = df['ds'].dt.strftime('%B')\n",
    "        region_dfs.append(df)\n",
    "\n",
    "if region_dfs:\n",
    "    final_df = pd.concat(region_dfs)\n",
    "    final_df = final_df[['ds', 'Region', 'yhat', 'yhat_lower', 'yhat_upper', 'Year', 'Month']]\n",
    "    \n",
    "    output_path = \"../data/processed/pbi_forecast_by_region.csv\"\n",
    "    final_df.to_csv(output_path, index=False)\n",
    "    print(\"✅ Regional forecast combined and saved to Processed folder.\")\n",
    "else:\n",
    "    print(\"❌ No forecast files found to combine.\")\n"
   ]
  }
 ],
 "metadata": {
  "kernelspec": {
   "display_name": "base",
   "language": "python",
   "name": "python3"
  },
  "language_info": {
   "codemirror_mode": {
    "name": "ipython",
    "version": 3
   },
   "file_extension": ".py",
   "mimetype": "text/x-python",
   "name": "python",
   "nbconvert_exporter": "python",
   "pygments_lexer": "ipython3",
   "version": "3.12.7"
  }
 },
 "nbformat": 4,
 "nbformat_minor": 5
}
